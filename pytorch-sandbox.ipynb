{
 "cells": [
  {
   "cell_type": "code",
   "execution_count": 2,
   "id": "accepting-biology",
   "metadata": {},
   "outputs": [],
   "source": [
    "import torch"
   ]
  },
  {
   "cell_type": "code",
   "execution_count": 3,
   "id": "french-palestinian",
   "metadata": {},
   "outputs": [],
   "source": [
    "threshold = 0.5\n",
    "#confidences = torch.rand(size=(5, )) # .view(64, 1)\n",
    "confidences = torch.tensor([0.25, 0.6, 0.4, 0.7, 0.2])\n",
    "q_table = torch.rand(size=(5, 3))\n",
    "best_q = torch.argmax(q_table, dim=1)\n",
    "strategy = 99"
   ]
  },
  {
   "cell_type": "code",
   "execution_count": 4,
   "id": "certified-musical",
   "metadata": {},
   "outputs": [
    {
     "name": "stdout",
     "output_type": "stream",
     "text": [
      "tensor([0.2500, 0.6000, 0.4000])\n",
      "tensor([[0.0954, 0.2578, 0.9832],\n",
      "        [0.4053, 0.3217, 0.9218],\n",
      "        [0.0769, 0.8691, 0.6586]])\n",
      "tensor([2, 2, 1])\n"
     ]
    }
   ],
   "source": [
    "print(confidences[:3])\n",
    "print(q_table[:3])\n",
    "print(best_q[:3])"
   ]
  },
  {
   "cell_type": "code",
   "execution_count": 8,
   "id": "prerequisite-cedar",
   "metadata": {},
   "outputs": [
    {
     "name": "stdout",
     "output_type": "stream",
     "text": [
      "confidences : tensor([0.2500, 0.6000, 0.4000, 0.7000, 0.2000])\n",
      "q best : tensor([2, 2, 1, 2, 2])\n",
      "threshold : 0.5\n",
      "strategy : 99\n",
      "action : tensor([99,  2, 99,  2, 99])\n"
     ]
    }
   ],
   "source": [
    "print(f\"confidences : {confidences}\")\n",
    "print(f\"q best : {best_q}\")\n",
    "print(f\"threshold : {threshold}\")\n",
    "print(f\"strategy : {strategy}\")\n",
    "print(f\"action : {torch.where(confidences.lt(threshold), strategy, best_q)}\")"
   ]
  },
  {
   "cell_type": "code",
   "execution_count": 13,
   "id": "apart-shore",
   "metadata": {},
   "outputs": [],
   "source": [
    "c = confidences"
   ]
  },
  {
   "cell_type": "code",
   "execution_count": 19,
   "id": "cleared-success",
   "metadata": {},
   "outputs": [],
   "source": [
    "t = torch.where(c<threshold, strategy, best_q)"
   ]
  },
  {
   "cell_type": "code",
   "execution_count": 20,
   "id": "closing-screening",
   "metadata": {},
   "outputs": [
    {
     "data": {
      "text/plain": [
       "tensor([0, 1, 2, 2, 1])"
      ]
     },
     "execution_count": 20,
     "metadata": {},
     "output_type": "execute_result"
    }
   ],
   "source": [
    "t"
   ]
  },
  {
   "cell_type": "code",
   "execution_count": 17,
   "id": "leading-plaza",
   "metadata": {},
   "outputs": [
    {
     "data": {
      "text/plain": [
       "1"
      ]
     },
     "execution_count": 17,
     "metadata": {},
     "output_type": "execute_result"
    }
   ],
   "source": [
    "strategy"
   ]
  },
  {
   "cell_type": "code",
   "execution_count": 10,
   "id": "cardiovascular-coach",
   "metadata": {},
   "outputs": [
    {
     "data": {
      "text/plain": [
       "tensor([0])"
      ]
     },
     "execution_count": 10,
     "metadata": {},
     "output_type": "execute_result"
    }
   ],
   "source": [
    "# mask condition to keep"
   ]
  },
  {
   "cell_type": "code",
   "execution_count": 36,
   "id": "dutch-carter",
   "metadata": {},
   "outputs": [],
   "source": [
    "# c = True if confidence < threshold, else False\n",
    "c = torch.lt(confidences, threshold).squeeze()"
   ]
  },
  {
   "cell_type": "code",
   "execution_count": 37,
   "id": "honey-creation",
   "metadata": {},
   "outputs": [
    {
     "data": {
      "text/plain": [
       "tensor([[0]])"
      ]
     },
     "execution_count": 37,
     "metadata": {},
     "output_type": "execute_result"
    }
   ],
   "source": [
    "torch.tensor([[strategy]])"
   ]
  },
  {
   "cell_type": "code",
   "execution_count": 38,
   "id": "featured-neighbor",
   "metadata": {},
   "outputs": [
    {
     "data": {
      "text/plain": [
       "tensor([0, 1, 1, 0, 0, 2, 0, 0, 2, 1, 2, 0, 0, 2, 0, 1, 0, 1, 2, 2, 1, 1, 1, 2,\n",
       "        0, 2, 2, 2, 2, 1, 0, 2, 1, 2, 1, 1, 2, 2, 1, 2, 2, 1, 1, 0, 2, 0, 0, 1,\n",
       "        1, 0, 2, 2, 2, 1, 1, 0, 0, 1, 0, 0, 0, 2, 2, 1])"
      ]
     },
     "execution_count": 38,
     "metadata": {},
     "output_type": "execute_result"
    }
   ],
   "source": [
    "best_q"
   ]
  },
  {
   "cell_type": "code",
   "execution_count": 42,
   "id": "central-township",
   "metadata": {},
   "outputs": [
    {
     "ename": "TypeError",
     "evalue": "where() received an invalid combination of arguments - got (Tensor, y=int, x=Tensor), but expected one of:\n * (Tensor condition)\n * (Tensor condition, Tensor input, Tensor other)\n      didn't match because some of the keywords were incorrect: y, x\n * (Tensor condition, Number self, Tensor other)\n      didn't match because some of the keywords were incorrect: y, x\n * (Tensor condition, Tensor input, Number other)\n      didn't match because some of the keywords were incorrect: y, x\n * (Tensor condition, Number self, Number other)\n      didn't match because some of the keywords were incorrect: y, x\n",
     "output_type": "error",
     "traceback": [
      "\u001b[0;31m---------------------------------------------------------------------------\u001b[0m",
      "\u001b[0;31mTypeError\u001b[0m                                 Traceback (most recent call last)",
      "\u001b[0;32m<ipython-input-42-2ccf61980479>\u001b[0m in \u001b[0;36m<module>\u001b[0;34m\u001b[0m\n\u001b[0;32m----> 1\u001b[0;31m \u001b[0ma\u001b[0m \u001b[0;34m=\u001b[0m \u001b[0mtorch\u001b[0m\u001b[0;34m.\u001b[0m\u001b[0mwhere\u001b[0m\u001b[0;34m(\u001b[0m\u001b[0mc\u001b[0m\u001b[0;34m==\u001b[0m\u001b[0;32mTrue\u001b[0m\u001b[0;34m,\u001b[0m \u001b[0mx\u001b[0m\u001b[0;34m=\u001b[0m\u001b[0mc\u001b[0m\u001b[0;34m,\u001b[0m \u001b[0my\u001b[0m\u001b[0;34m=\u001b[0m\u001b[0mstrategy\u001b[0m\u001b[0;34m)\u001b[0m\u001b[0;34m\u001b[0m\u001b[0;34m\u001b[0m\u001b[0m\n\u001b[0m",
      "\u001b[0;31mTypeError\u001b[0m: where() received an invalid combination of arguments - got (Tensor, y=int, x=Tensor), but expected one of:\n * (Tensor condition)\n * (Tensor condition, Tensor input, Tensor other)\n      didn't match because some of the keywords were incorrect: y, x\n * (Tensor condition, Number self, Tensor other)\n      didn't match because some of the keywords were incorrect: y, x\n * (Tensor condition, Tensor input, Number other)\n      didn't match because some of the keywords were incorrect: y, x\n * (Tensor condition, Number self, Number other)\n      didn't match because some of the keywords were incorrect: y, x\n"
     ]
    }
   ],
   "source": [
    "a = torch.where(c==True, x=c, y=strategy)"
   ]
  },
  {
   "cell_type": "code",
   "execution_count": 43,
   "id": "russian-leadership",
   "metadata": {},
   "outputs": [],
   "source": [
    "t = torch.nonzero(c)"
   ]
  },
  {
   "cell_type": "code",
   "execution_count": 44,
   "id": "planned-belly",
   "metadata": {},
   "outputs": [
    {
     "data": {
      "text/plain": [
       "tensor([[ 0],\n",
       "        [ 3],\n",
       "        [ 6],\n",
       "        [ 8],\n",
       "        [12],\n",
       "        [13],\n",
       "        [16],\n",
       "        [18],\n",
       "        [19],\n",
       "        [20],\n",
       "        [21],\n",
       "        [22],\n",
       "        [23],\n",
       "        [24],\n",
       "        [25],\n",
       "        [26],\n",
       "        [30],\n",
       "        [31],\n",
       "        [32],\n",
       "        [33],\n",
       "        [34],\n",
       "        [35],\n",
       "        [37],\n",
       "        [38],\n",
       "        [41],\n",
       "        [42],\n",
       "        [44],\n",
       "        [51],\n",
       "        [52],\n",
       "        [53],\n",
       "        [56],\n",
       "        [59],\n",
       "        [60],\n",
       "        [61]])"
      ]
     },
     "execution_count": 44,
     "metadata": {},
     "output_type": "execute_result"
    }
   ],
   "source": [
    "t"
   ]
  },
  {
   "cell_type": "code",
   "execution_count": 40,
   "id": "compliant-school",
   "metadata": {},
   "outputs": [
    {
     "data": {
      "text/plain": [
       "tensor([ True, False, False,  True, False, False,  True, False,  True, False,\n",
       "        False, False,  True,  True, False, False,  True, False,  True,  True,\n",
       "         True,  True,  True,  True,  True,  True,  True, False, False, False,\n",
       "         True,  True,  True,  True,  True,  True, False,  True,  True, False,\n",
       "        False,  True,  True, False,  True, False, False, False, False, False,\n",
       "        False,  True,  True,  True, False, False,  True, False, False,  True,\n",
       "         True,  True, False, False])"
      ]
     },
     "execution_count": 40,
     "metadata": {},
     "output_type": "execute_result"
    }
   ],
   "source": [
    "c"
   ]
  },
  {
   "cell_type": "code",
   "execution_count": null,
   "id": "beautiful-cycle",
   "metadata": {},
   "outputs": [],
   "source": []
  },
  {
   "cell_type": "code",
   "execution_count": null,
   "id": "sharing-transcription",
   "metadata": {},
   "outputs": [],
   "source": []
  },
  {
   "cell_type": "code",
   "execution_count": 35,
   "id": "frank-conversation",
   "metadata": {},
   "outputs": [
    {
     "ename": "TypeError",
     "evalue": "where() received an invalid combination of arguments - got (y=Tensor, x=Tensor, condition=Tensor, ), but expected one of:\n * (Tensor condition)\n * (Tensor condition, Tensor input, Tensor other)\n      didn't match because some of the keywords were incorrect: y, x\n * (Tensor condition, Number self, Tensor other)\n      didn't match because some of the keywords were incorrect: y, x\n * (Tensor condition, Tensor input, Number other)\n      didn't match because some of the keywords were incorrect: y, x\n * (Tensor condition, Number self, Number other)\n      didn't match because some of the keywords were incorrect: y, x\n",
     "output_type": "error",
     "traceback": [
      "\u001b[0;31m---------------------------------------------------------------------------\u001b[0m",
      "\u001b[0;31mTypeError\u001b[0m                                 Traceback (most recent call last)",
      "\u001b[0;32m<ipython-input-35-0c5d14900c63>\u001b[0m in \u001b[0;36m<module>\u001b[0;34m\u001b[0m\n\u001b[0;32m----> 1\u001b[0;31m \u001b[0ma\u001b[0m \u001b[0;34m=\u001b[0m \u001b[0mtorch\u001b[0m\u001b[0;34m.\u001b[0m\u001b[0mwhere\u001b[0m\u001b[0;34m(\u001b[0m\u001b[0mcondition\u001b[0m\u001b[0;34m=\u001b[0m\u001b[0mtorch\u001b[0m\u001b[0;34m.\u001b[0m\u001b[0mlt\u001b[0m\u001b[0;34m(\u001b[0m\u001b[0mconfidences\u001b[0m\u001b[0;34m,\u001b[0m \u001b[0mthreshold\u001b[0m\u001b[0;34m)\u001b[0m\u001b[0;34m.\u001b[0m\u001b[0msqueeze\u001b[0m\u001b[0;34m(\u001b[0m\u001b[0;34m)\u001b[0m\u001b[0;34m,\u001b[0m \u001b[0mx\u001b[0m\u001b[0;34m=\u001b[0m\u001b[0mtorch\u001b[0m\u001b[0;34m.\u001b[0m\u001b[0mtensor\u001b[0m\u001b[0;34m(\u001b[0m\u001b[0;34m[\u001b[0m\u001b[0mstrategy\u001b[0m\u001b[0;34m]\u001b[0m\u001b[0;34m)\u001b[0m\u001b[0;34m,\u001b[0m \u001b[0my\u001b[0m\u001b[0;34m=\u001b[0m\u001b[0mbest_q\u001b[0m\u001b[0;34m)\u001b[0m\u001b[0;34m\u001b[0m\u001b[0;34m\u001b[0m\u001b[0m\n\u001b[0m",
      "\u001b[0;31mTypeError\u001b[0m: where() received an invalid combination of arguments - got (y=Tensor, x=Tensor, condition=Tensor, ), but expected one of:\n * (Tensor condition)\n * (Tensor condition, Tensor input, Tensor other)\n      didn't match because some of the keywords were incorrect: y, x\n * (Tensor condition, Number self, Tensor other)\n      didn't match because some of the keywords were incorrect: y, x\n * (Tensor condition, Tensor input, Number other)\n      didn't match because some of the keywords were incorrect: y, x\n * (Tensor condition, Number self, Number other)\n      didn't match because some of the keywords were incorrect: y, x\n"
     ]
    }
   ],
   "source": [
    "a = torch.where(condition=torch.lt(confidences, threshold).squeeze(), x=torch.tensor([strategy]), y=best_q)"
   ]
  },
  {
   "cell_type": "code",
   "execution_count": 14,
   "id": "unnecessary-stanley",
   "metadata": {},
   "outputs": [
    {
     "data": {
      "text/plain": [
       "torch.Size([64, 1])"
      ]
     },
     "execution_count": 14,
     "metadata": {},
     "output_type": "execute_result"
    }
   ],
   "source": [
    "c.size()"
   ]
  },
  {
   "cell_type": "code",
   "execution_count": 11,
   "id": "established-disney",
   "metadata": {},
   "outputs": [
    {
     "ename": "TypeError",
     "evalue": "where() received an invalid combination of arguments - got (y=Tensor, x=Tensor, condition=Tensor, ), but expected one of:\n * (Tensor condition)\n * (Tensor condition, Tensor input, Tensor other)\n      didn't match because some of the keywords were incorrect: y, x\n * (Tensor condition, Number self, Tensor other)\n      didn't match because some of the keywords were incorrect: y, x\n * (Tensor condition, Tensor input, Number other)\n      didn't match because some of the keywords were incorrect: y, x\n * (Tensor condition, Number self, Number other)\n      didn't match because some of the keywords were incorrect: y, x\n",
     "output_type": "error",
     "traceback": [
      "\u001b[0;31m---------------------------------------------------------------------------\u001b[0m",
      "\u001b[0;31mTypeError\u001b[0m                                 Traceback (most recent call last)",
      "\u001b[0;32m<ipython-input-11-4b1331146755>\u001b[0m in \u001b[0;36m<module>\u001b[0;34m\u001b[0m\n\u001b[0;32m----> 1\u001b[0;31m \u001b[0mactions\u001b[0m \u001b[0;34m=\u001b[0m \u001b[0mtorch\u001b[0m\u001b[0;34m.\u001b[0m\u001b[0mwhere\u001b[0m\u001b[0;34m(\u001b[0m\u001b[0mcondition\u001b[0m\u001b[0;34m=\u001b[0m\u001b[0mconfidences\u001b[0m\u001b[0;34m<\u001b[0m\u001b[0mthreshold\u001b[0m\u001b[0;34m,\u001b[0m \u001b[0mx\u001b[0m\u001b[0;34m=\u001b[0m\u001b[0mtorch\u001b[0m\u001b[0;34m.\u001b[0m\u001b[0mtensor\u001b[0m\u001b[0;34m(\u001b[0m\u001b[0;34m[\u001b[0m\u001b[0mstrategy\u001b[0m\u001b[0;34m]\u001b[0m\u001b[0;34m)\u001b[0m\u001b[0;34m,\u001b[0m \u001b[0my\u001b[0m\u001b[0;34m=\u001b[0m\u001b[0mbest_q\u001b[0m\u001b[0;34m)\u001b[0m\u001b[0;34m\u001b[0m\u001b[0;34m\u001b[0m\u001b[0m\n\u001b[0m",
      "\u001b[0;31mTypeError\u001b[0m: where() received an invalid combination of arguments - got (y=Tensor, x=Tensor, condition=Tensor, ), but expected one of:\n * (Tensor condition)\n * (Tensor condition, Tensor input, Tensor other)\n      didn't match because some of the keywords were incorrect: y, x\n * (Tensor condition, Number self, Tensor other)\n      didn't match because some of the keywords were incorrect: y, x\n * (Tensor condition, Tensor input, Number other)\n      didn't match because some of the keywords were incorrect: y, x\n * (Tensor condition, Number self, Number other)\n      didn't match because some of the keywords were incorrect: y, x\n"
     ]
    }
   ],
   "source": [
    "actions = torch.where(condition=confidences<threshold, x=q_table, y=torch.tensor([strategy]))"
   ]
  },
  {
   "cell_type": "code",
   "execution_count": 25,
   "id": "reverse-kentucky",
   "metadata": {},
   "outputs": [
    {
     "data": {
      "text/plain": [
       "tensor([[0.5888, 0.2606, 0.5103, 0.0944],\n",
       "        [0.9398, 0.1994, 0.2125, 0.7854],\n",
       "        [0.9027, 0.0709, 0.5118, 0.2473]])"
      ]
     },
     "execution_count": 25,
     "metadata": {},
     "output_type": "execute_result"
    }
   ],
   "source": [
    "d = torch.cat((confidences, q_table), dim=1)\n",
    "d[:3]"
   ]
  },
  {
   "cell_type": "code",
   "execution_count": 27,
   "id": "arctic-accent",
   "metadata": {},
   "outputs": [],
   "source": [
    "data = d[:3]"
   ]
  },
  {
   "cell_type": "code",
   "execution_count": 29,
   "id": "maritime-violation",
   "metadata": {},
   "outputs": [],
   "source": [
    "def foo(row, strategy, thrsh):\n",
    "    return strategy if row[0] < thresh else torch.argmax(row[1:])"
   ]
  },
  {
   "cell_type": "code",
   "execution_count": null,
   "id": "advisory-toilet",
   "metadata": {},
   "outputs": [],
   "source": [
    "if strategy is not None:\n",
    "    actions = torch.where(condition=confidences<threshold, x=torch.tensor([strategy]), y=best_q)"
   ]
  },
  {
   "cell_type": "code",
   "execution_count": null,
   "id": "domestic-oriental",
   "metadata": {},
   "outputs": [],
   "source": [
    "if strategy is not None:\n",
    "    actions = [strategy if c < threshold else torch.argmax(qvals) for c, qvals in zip(confidences, q_table)]\n",
    "else:\n",
    "    # get argmax for each item in batch\n",
    "    actions = torch.argmax(q_table, dim=1)"
   ]
  },
  {
   "cell_type": "code",
   "execution_count": 30,
   "id": "personalized-divorce",
   "metadata": {},
   "outputs": [],
   "source": [
    "strategy = 0\n",
    "thresh = 0.25"
   ]
  },
  {
   "cell_type": "code",
   "execution_count": 31,
   "id": "noted-venice",
   "metadata": {},
   "outputs": [
    {
     "ename": "AttributeError",
     "evalue": "module 'torch' has no attribute 'vmap'",
     "output_type": "error",
     "traceback": [
      "\u001b[0;31m---------------------------------------------------------------------------\u001b[0m",
      "\u001b[0;31mAttributeError\u001b[0m                            Traceback (most recent call last)",
      "\u001b[0;32m<ipython-input-31-e53acc8f7a5b>\u001b[0m in \u001b[0;36m<module>\u001b[0;34m\u001b[0m\n\u001b[0;32m----> 1\u001b[0;31m \u001b[0mmymap\u001b[0m \u001b[0;34m=\u001b[0m \u001b[0mtorch\u001b[0m\u001b[0;34m.\u001b[0m\u001b[0mvmap\u001b[0m\u001b[0;34m(\u001b[0m\u001b[0mfunc\u001b[0m\u001b[0;34m)\u001b[0m\u001b[0;34m\u001b[0m\u001b[0;34m\u001b[0m\u001b[0m\n\u001b[0m",
      "\u001b[0;31mAttributeError\u001b[0m: module 'torch' has no attribute 'vmap'"
     ]
    }
   ],
   "source": [
    "d2 = [strategy if ]"
   ]
  },
  {
   "cell_type": "code",
   "execution_count": null,
   "id": "whole-clerk",
   "metadata": {},
   "outputs": [],
   "source": []
  }
 ],
 "metadata": {
  "kernelspec": {
   "display_name": "Python 3",
   "language": "python",
   "name": "python3"
  },
  "language_info": {
   "codemirror_mode": {
    "name": "ipython",
    "version": 3
   },
   "file_extension": ".py",
   "mimetype": "text/x-python",
   "name": "python",
   "nbconvert_exporter": "python",
   "pygments_lexer": "ipython3",
   "version": "3.7.9"
  }
 },
 "nbformat": 4,
 "nbformat_minor": 5
}
