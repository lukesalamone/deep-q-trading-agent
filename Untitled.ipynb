{
 "cells": [
  {
   "cell_type": "code",
   "execution_count": 1,
   "id": "accepted-tiffany",
   "metadata": {},
   "outputs": [],
   "source": [
    "import torch"
   ]
  },
  {
   "cell_type": "code",
   "execution_count": 23,
   "id": "declared-advance",
   "metadata": {},
   "outputs": [],
   "source": [
    "threshold = 0.5\n",
    "confidences = torch.rand(size=(64, )).view(64, 1)\n",
    "q_table = torch.rand(size=(64, 3))"
   ]
  },
  {
   "cell_type": "code",
   "execution_count": 24,
   "id": "statewide-timer",
   "metadata": {},
   "outputs": [
    {
     "name": "stdout",
     "output_type": "stream",
     "text": [
      "tensor([[0.5888],\n",
      "        [0.9398],\n",
      "        [0.9027]])\n",
      "tensor([[0.2606, 0.5103, 0.0944],\n",
      "        [0.1994, 0.2125, 0.7854],\n",
      "        [0.0709, 0.5118, 0.2473]])\n"
     ]
    }
   ],
   "source": [
    "print(confidences[:3])\n",
    "print(q_table[:3])"
   ]
  },
  {
   "cell_type": "code",
   "execution_count": 25,
   "id": "short-judges",
   "metadata": {},
   "outputs": [
    {
     "data": {
      "text/plain": [
       "tensor([[0.5888, 0.2606, 0.5103, 0.0944],\n",
       "        [0.9398, 0.1994, 0.2125, 0.7854],\n",
       "        [0.9027, 0.0709, 0.5118, 0.2473]])"
      ]
     },
     "execution_count": 25,
     "metadata": {},
     "output_type": "execute_result"
    }
   ],
   "source": [
    "d = torch.cat((confidences, q_table), dim=1)\n",
    "d[:3]"
   ]
  },
  {
   "cell_type": "code",
   "execution_count": 27,
   "id": "social-matter",
   "metadata": {},
   "outputs": [],
   "source": [
    "data = d[:3]"
   ]
  },
  {
   "cell_type": "code",
   "execution_count": 29,
   "id": "violent-professional",
   "metadata": {},
   "outputs": [],
   "source": [
    "def foo(row, strategy, thrsh):\n",
    "    return strategy if row[0] < thresh else torch.argmax(row[1:])"
   ]
  },
  {
   "cell_type": "code",
   "execution_count": null,
   "id": "criminal-august",
   "metadata": {},
   "outputs": [],
   "source": [
    "if strategy is not None:\n",
    "    actions = [strategy if c < threshold else torch.argmax(qvals) for c, qvals in zip(confidences, q_table)]\n",
    "else:\n",
    "    # get argmax for each item in batch\n",
    "    actions = torch.argmax(q_table, dim=1)"
   ]
  },
  {
   "cell_type": "code",
   "execution_count": 30,
   "id": "overhead-canvas",
   "metadata": {},
   "outputs": [],
   "source": [
    "strategy = 0\n",
    "thresh = 0.25"
   ]
  },
  {
   "cell_type": "code",
   "execution_count": 31,
   "id": "accurate-alberta",
   "metadata": {},
   "outputs": [
    {
     "ename": "AttributeError",
     "evalue": "module 'torch' has no attribute 'vmap'",
     "output_type": "error",
     "traceback": [
      "\u001b[0;31m---------------------------------------------------------------------------\u001b[0m",
      "\u001b[0;31mAttributeError\u001b[0m                            Traceback (most recent call last)",
      "\u001b[0;32m<ipython-input-31-e53acc8f7a5b>\u001b[0m in \u001b[0;36m<module>\u001b[0;34m\u001b[0m\n\u001b[0;32m----> 1\u001b[0;31m \u001b[0mmymap\u001b[0m \u001b[0;34m=\u001b[0m \u001b[0mtorch\u001b[0m\u001b[0;34m.\u001b[0m\u001b[0mvmap\u001b[0m\u001b[0;34m(\u001b[0m\u001b[0mfunc\u001b[0m\u001b[0;34m)\u001b[0m\u001b[0;34m\u001b[0m\u001b[0;34m\u001b[0m\u001b[0m\n\u001b[0m",
      "\u001b[0;31mAttributeError\u001b[0m: module 'torch' has no attribute 'vmap'"
     ]
    }
   ],
   "source": [
    "d2 = [strategy if ]"
   ]
  },
  {
   "cell_type": "code",
   "execution_count": null,
   "id": "happy-rebel",
   "metadata": {},
   "outputs": [],
   "source": []
  }
 ],
 "metadata": {
  "kernelspec": {
   "display_name": "Python 3",
   "language": "python",
   "name": "python3"
  },
  "language_info": {
   "codemirror_mode": {
    "name": "ipython",
    "version": 3
   },
   "file_extension": ".py",
   "mimetype": "text/x-python",
   "name": "python",
   "nbconvert_exporter": "python",
   "pygments_lexer": "ipython3",
   "version": "3.7.9"
  }
 },
 "nbformat": 4,
 "nbformat_minor": 5
}
